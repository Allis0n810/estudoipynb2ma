{
  "nbformat": 4,
  "nbformat_minor": 0,
  "metadata": {
    "colab": {
      "provenance": []
    },
    "kernelspec": {
      "name": "python3",
      "display_name": "Python 3"
    },
    "language_info": {
      "name": "python"
    }
  },
  "cells": [
    {
      "cell_type": "code",
      "execution_count": 9,
      "metadata": {
        "colab": {
          "base_uri": "https://localhost:8080/"
        },
        "id": "90QAkdczdRO4",
        "outputId": "f6753aa9-1fc4-4152-b0ae-8da648c8a21c"
      },
      "outputs": [
        {
          "output_type": "stream",
          "name": "stdout",
          "text": [
            "<class 'bool'>\n"
          ]
        }
      ],
      "source": [
        " # Uninassau\n",
        " # Docente: Cloves Rocha\n",
        " # Estudante: Allison Correia\n",
        " # Tipos Primitivos de Dados\n",
        "\n",
        " #print('olá mundo!')\n",
        "\n",
        " a = False\n",
        "\n",
        " print(type(a))"
      ]
    }
  ]
}