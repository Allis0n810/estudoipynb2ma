{
  "nbformat": 4,
  "nbformat_minor": 0,
  "metadata": {
    "colab": {
      "provenance": [],
      "authorship_tag": "ABX9TyNe7nSUky1o/217N7h8KvsQ",
      "include_colab_link": true
    },
    "kernelspec": {
      "name": "python3",
      "display_name": "Python 3"
    },
    "language_info": {
      "name": "python"
    }
  },
  "cells": [
    {
      "cell_type": "markdown",
      "metadata": {
        "id": "view-in-github",
        "colab_type": "text"
      },
      "source": [
        "<a href=\"https://colab.research.google.com/github/Allis0n810/estudoipynb2ma/blob/main/aula2_ads2ma.ipynb\" target=\"_parent\"><img src=\"https://colab.research.google.com/assets/colab-badge.svg\" alt=\"Open In Colab\"/></a>"
      ]
    },
    {
      "cell_type": "code",
      "execution_count": 11,
      "metadata": {
        "colab": {
          "base_uri": "https://localhost:8080/"
        },
        "id": "90QAkdczdRO4",
        "outputId": "0a6b781d-0ada-468d-ddbd-ce3526e8e0c5"
      },
      "outputs": [
        {
          "output_type": "stream",
          "name": "stdout",
          "text": [
            "<class 'str'>\n"
          ]
        }
      ],
      "source": [
        " # Uninassau\n",
        " # Docente: Cloves Rocha\n",
        " # Estudante: Allison Correia\n",
        " # Tipos Primitivos de Dados\n",
        "\n",
        " #print('olá mundo!')\n",
        "\n",
        " d = 'Dado'\n",
        "\n",
        " print(type(d))"
      ]
    }
  ]
}