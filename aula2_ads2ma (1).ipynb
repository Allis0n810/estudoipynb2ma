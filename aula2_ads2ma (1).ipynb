{
  "nbformat": 4,
  "nbformat_minor": 0,
  "metadata": {
    "colab": {
      "provenance": []
    },
    "kernelspec": {
      "name": "python3",
      "display_name": "Python 3"
    },
    "language_info": {
      "name": "python"
    }
  },
  "cells": [
    {
      "cell_type": "code",
      "execution_count": 12,
      "metadata": {
        "colab": {
          "base_uri": "https://localhost:8080/"
        },
        "id": "90QAkdczdRO4",
        "outputId": "481ea53d-9c94-44f1-bfe5-258c6e3faa35"
      },
      "outputs": [
        {
          "output_type": "stream",
          "name": "stdout",
          "text": [
            "<class 'str'>\n"
          ]
        }
      ],
      "source": [
        " # Uninassau\n",
        " # Docente: Cloves Rocha\n",
        " # Estudante: Allison Correia\n",
        " # Tipos Primitivos de Dados\n",
        "\n",
        " #print('bom dia!')\n",
        "\n",
        " A = 'Allison'\n",
        "\n",
        " print(type(A))"
      ]
    }
  ]
}